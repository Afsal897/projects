{
 "cells": [
  {
   "cell_type": "code",
   "execution_count": 1,
   "metadata": {},
   "outputs": [],
   "source": [
    "import cv2\n",
    "import os"
   ]
  },
  {
   "cell_type": "code",
   "execution_count": 5,
   "metadata": {},
   "outputs": [],
   "source": [
    "output_folder = \"2\"\n",
    "os.makedirs(output_folder, exist_ok=True)\n",
    "\n",
    "# Start video capture\n",
    "video = cv2.VideoCapture(0)\n",
    "frame_count = 0\n",
    "\n",
    "while True:\n",
    "    success, img = video.read()\n",
    "    if not success:\n",
    "        break\n",
    "\n",
    "    # Save the frame as an image file\n",
    "    frame_path = os.path.join(output_folder, f\"{output_folder}_{frame_count:04d}.jpg\")\n",
    "    cv2.imwrite(frame_path, img)\n",
    "\n",
    "    # Convert the frame to RGB (optional, if needed for processing)\n",
    "    img1 = cv2.cvtColor(img, cv2.COLOR_BGR2RGB)\n",
    "\n",
    "    # Display the frame\n",
    "    cv2.imshow('img', img)\n",
    "\n",
    "    # Increment frame counter\n",
    "    frame_count += 1\n",
    "\n",
    "    # Break loop on pressing 'q'\n",
    "    if cv2.waitKey(1) & 0xFF == ord('q'):\n",
    "        break\n",
    "\n",
    "# Release resources\n",
    "video.release()\n",
    "cv2.destroyAllWindows()"
   ]
  }
 ],
 "metadata": {
  "kernelspec": {
   "display_name": "Python 3",
   "language": "python",
   "name": "python3"
  },
  "language_info": {
   "codemirror_mode": {
    "name": "ipython",
    "version": 3
   },
   "file_extension": ".py",
   "mimetype": "text/x-python",
   "name": "python",
   "nbconvert_exporter": "python",
   "pygments_lexer": "ipython3",
   "version": "3.10.0"
  }
 },
 "nbformat": 4,
 "nbformat_minor": 2
}
